{
 "cells": [
  {
   "cell_type": "markdown",
   "metadata": {},
   "source": [
    "# Version Check"
   ]
  },
  {
   "cell_type": "code",
   "execution_count": 1,
   "metadata": {},
   "outputs": [
    {
     "name": "stdout",
     "output_type": "stream",
     "text": [
      "Python: 3.8.5 (default, Sep  3 2020, 21:29:08) [MSC v.1916 64 bit (AMD64)]\n",
      "scipy: 1.5.2\n",
      "numpy: 1.19.2\n",
      "matplotlib: 3.3.2\n",
      "pandas: 1.1.3\n",
      "sklearn: 0.23.2\n"
     ]
    }
   ],
   "source": [
    "# Python version\n",
    "import sys\n",
    "print('Python: {}'.format(sys.version))\n",
    "# scipy\n",
    "import scipy\n",
    "print('scipy: {}'.format(scipy.__version__))\n",
    "# numpy\n",
    "import numpy\n",
    "print('numpy: {}'.format(numpy.__version__))\n",
    "# matplotlib\n",
    "import matplotlib\n",
    "print('matplotlib: {}'.format(matplotlib.__version__))\n",
    "# pandas\n",
    "import pandas\n",
    "print('pandas: {}'.format(pandas.__version__))\n",
    "# scikit-learn\n",
    "import sklearn\n",
    "print('sklearn: {}'.format(sklearn.__version__))"
   ]
  },
  {
   "cell_type": "markdown",
   "metadata": {},
   "source": [
    "# Load Libraries"
   ]
  },
  {
   "cell_type": "code",
   "execution_count": 2,
   "metadata": {},
   "outputs": [],
   "source": [
    "# Load libraries\n",
    "from pandas import read_csv\n",
    "from pandas.plotting import scatter_matrix\n",
    "from matplotlib import pyplot\n",
    "from sklearn.model_selection import train_test_split\n",
    "from sklearn.model_selection import cross_val_score\n",
    "from sklearn.model_selection import StratifiedKFold\n",
    "from sklearn.metrics import classification_report\n",
    "from sklearn.metrics import confusion_matrix\n",
    "from sklearn.metrics import accuracy_score\n",
    "from sklearn.linear_model import LogisticRegression\n",
    "from sklearn.tree import DecisionTreeClassifier\n",
    "from sklearn.neighbors import KNeighborsClassifier\n",
    "from sklearn.discriminant_analysis import LinearDiscriminantAnalysis\n",
    "from sklearn.naive_bayes import GaussianNB\n",
    "from sklearn.svm import SVC\n",
    "import csv\n",
    "import os\n",
    "import re"
   ]
  },
  {
   "cell_type": "markdown",
   "metadata": {},
   "source": [
    "# Load Datasets and Preprocessing"
   ]
  },
  {
   "cell_type": "code",
   "execution_count": 12,
   "metadata": {},
   "outputs": [],
   "source": [
    "#Init CSV and .txt conversion\n",
    "path = \"DATASETS/E-GEOD-36807/GSM901319_sample_table.txt\"\n",
    "with open(path) as f:\n",
    "    reader = csv.reader(f, delimiter=\"\\t\")\n",
    "    d = list(reader)\n",
    "#     print(d[0]) # 10.06793621\n",
    "    filename = re.findall(r\"[^_]*\",os.path.basename(f.name))[0]\n",
    "    d[0][1] = filename\n",
    "#     d = d+[['STATUS','HEALTHY']]\n",
    "#     print(d)\n",
    "    a = [row[1] for row in d] # dataset but VALUE ROW only\n",
    "    a = a[1:] # dataset but without \"VALUE\" string\n",
    "#     print(a[0]) # 10.06793621, should be the same as above print(2)\n",
    "    metaframe = pandas.DataFrame(d)\n",
    "    headers = metaframe.iloc[0]\n",
    "    dframe  = pandas.DataFrame(metaframe.values[1:], columns=headers)\n",
    "    dframe.to_csv(\"datasets.csv\", index=False)"
   ]
  },
  {
   "cell_type": "code",
   "execution_count": 13,
   "metadata": {},
   "outputs": [
    {
     "name": "stdout",
     "output_type": "stream",
     "text": [
      "GSM901320\n",
      "GSM901321\n",
      "GSM901322\n",
      "GSM901323\n",
      "GSM901324\n",
      "GSM901325\n",
      "GSM901326\n",
      "GSM901327\n",
      "GSM901328\n",
      "GSM901329\n",
      "GSM901330\n",
      "GSM901331\n",
      "GSM901332\n",
      "GSM901333\n",
      "GSM901334\n",
      "GSM901335\n",
      "GSM901336\n",
      "GSM901337\n",
      "GSM901338\n",
      "GSM901339\n",
      "GSM901340\n",
      "GSM901341\n",
      "GSM901342\n",
      "GSM901343\n",
      "GSM901344\n",
      "GSM901345\n",
      "GSM901346\n",
      "GSM901347\n",
      "GSM901348\n",
      "GSM901349\n",
      "GSM901350\n",
      "GSM901351\n",
      "GSM901352\n",
      "GSM901353\n"
     ]
    }
   ],
   "source": [
    "#merge other datasets from the DATASETS directory\n",
    "directory = \"DATASETS/E-GEOD-36807\"\n",
    "i = 0\n",
    "for f in os.listdir(directory):\n",
    "    if f.endswith(\".txt\") and i != 0: \n",
    "        print(re.findall(r\"[^_]*\",os.path.basename(f))[0])\n",
    "        currentFILE = open(directory + \"/{}\".format(f))\n",
    "        reader = csv.reader(currentFILE, delimiter=\"\\t\")\n",
    "        d = list(reader)\n",
    "#         print(d[1][1]) # 10.06793621\n",
    "        a = [row[1] for row in d] # dataset but VALUE ROW only\n",
    "        a[0] = re.findall(r\"[^_]*\",os.path.basename(f))[0]\n",
    "#       [WARNING] probably change first element to file name\n",
    "        metaframe = pandas.DataFrame(a)\n",
    "        headers = metaframe.iloc[0]\n",
    "        dframeTEMP = pandas.DataFrame(metaframe.values[1:], columns=headers)\n",
    "        dframe = pandas.read_csv('datasets.csv')\n",
    "        dframe = dframe.merge(dframeTEMP, left_index=True, right_index=True)\n",
    "        dframe.to_csv(\"datasets.csv\", index=False)\n",
    "        continue\n",
    "    else:\n",
    "        i = i+1 #skip GSM901319, bcos processed previously\n",
    "        continue"
   ]
  },
  {
   "cell_type": "code",
   "execution_count": 1,
   "metadata": {},
   "outputs": [
    {
     "ename": "NameError",
     "evalue": "name 'csv' is not defined",
     "output_type": "error",
     "traceback": [
      "\u001b[1;31m---------------------------------------------------------------------------\u001b[0m",
      "\u001b[1;31mNameError\u001b[0m                                 Traceback (most recent call last)",
      "\u001b[1;32m<ipython-input-1-0ddab0cb52d9>\u001b[0m in \u001b[0;36m<module>\u001b[1;34m\u001b[0m\n\u001b[0;32m      1\u001b[0m \u001b[0mpath\u001b[0m \u001b[1;33m=\u001b[0m \u001b[1;34m\"DATASETS/E-GEOD-36807/STATUS/36807_status.txt\"\u001b[0m\u001b[1;33m\u001b[0m\u001b[1;33m\u001b[0m\u001b[0m\n\u001b[0;32m      2\u001b[0m \u001b[1;32mwith\u001b[0m \u001b[0mopen\u001b[0m\u001b[1;33m(\u001b[0m\u001b[0mpath\u001b[0m\u001b[1;33m)\u001b[0m \u001b[1;32mas\u001b[0m \u001b[0mf\u001b[0m\u001b[1;33m:\u001b[0m\u001b[1;33m\u001b[0m\u001b[1;33m\u001b[0m\u001b[0m\n\u001b[1;32m----> 3\u001b[1;33m     \u001b[0mreader\u001b[0m \u001b[1;33m=\u001b[0m \u001b[0mcsv\u001b[0m\u001b[1;33m.\u001b[0m\u001b[0mreader\u001b[0m\u001b[1;33m(\u001b[0m\u001b[0mf\u001b[0m\u001b[1;33m,\u001b[0m \u001b[0mdelimiter\u001b[0m\u001b[1;33m=\u001b[0m\u001b[1;34m\"\\t\"\u001b[0m\u001b[1;33m)\u001b[0m\u001b[1;33m\u001b[0m\u001b[1;33m\u001b[0m\u001b[0m\n\u001b[0m\u001b[0;32m      4\u001b[0m     \u001b[0md\u001b[0m \u001b[1;33m=\u001b[0m \u001b[0mlist\u001b[0m\u001b[1;33m(\u001b[0m\u001b[0mreader\u001b[0m\u001b[1;33m)\u001b[0m\u001b[1;33m\u001b[0m\u001b[1;33m\u001b[0m\u001b[0m\n\u001b[0;32m      5\u001b[0m     \u001b[0md\u001b[0m \u001b[1;33m=\u001b[0m \u001b[1;33m[\u001b[0m\u001b[1;34m\"STATUS\"\u001b[0m\u001b[1;33m]\u001b[0m \u001b[1;33m+\u001b[0m \u001b[1;33m[\u001b[0m\u001b[0mrow\u001b[0m\u001b[1;33m[\u001b[0m\u001b[1;36m1\u001b[0m\u001b[1;33m]\u001b[0m \u001b[1;32mfor\u001b[0m \u001b[0mrow\u001b[0m \u001b[1;32min\u001b[0m \u001b[0md\u001b[0m\u001b[1;33m]\u001b[0m\u001b[1;33m\u001b[0m\u001b[1;33m\u001b[0m\u001b[0m\n",
      "\u001b[1;31mNameError\u001b[0m: name 'csv' is not defined"
     ]
    }
   ],
   "source": [
    "path = \"DATASETS/E-GEOD-36807/STATUS/36807_status.txt\"\n",
    "with open(path) as f:\n",
    "    reader = csv.reader(f, delimiter=\"\\t\")\n",
    "    d = list(reader)\n",
    "    # SUGGESTION: could make it so that 1st column separated and do search on the datasets.csv to fill the data\n",
    "    d = [\"STATUS\"] + [row[1] for row in d]\n",
    "#     print(len(d))\n",
    "    dframe = pandas.read_csv('datasets.csv')\n",
    "    dframe.loc[len(dframe)] = d\n",
    "#     print(dframe.tail(1))\n",
    "    dframe.to_csv('datasets.csv', index=False)"
   ]
  },
  {
   "cell_type": "markdown",
   "metadata": {},
   "source": [
    "# Data Load"
   ]
  },
  {
   "cell_type": "code",
   "execution_count": 31,
   "metadata": {},
   "outputs": [
    {
     "name": "stderr",
     "output_type": "stream",
     "text": [
      "C:\\Users\\windr\\anaconda3\\lib\\site-packages\\IPython\\core\\interactiveshell.py:3146: DtypeWarning: Columns (1,2,3,4,5,6,7,8,9,10,11,12,13,14,15,16,17,18,19,20,21,22,23,24,25,26,27,28,29,30,31,32,33,34,35) have mixed types.Specify dtype option on import or set low_memory=False.\n",
      "  has_raised = await self.run_ast_nodes(code_ast.body, cell_name,\n"
     ]
    }
   ],
   "source": [
    "#data transpose\n",
    "pandas.read_csv('datasets.csv').T.to_csv('datasets_T.csv')"
   ]
  },
  {
   "cell_type": "code",
   "execution_count": 38,
   "metadata": {},
   "outputs": [
    {
     "name": "stdout",
     "output_type": "stream",
     "text": [
      "(35, 54677)\n"
     ]
    }
   ],
   "source": [
    "#data load\n",
    "pre_datasets = pandas.read_csv('datasets_T.csv', low_memory=False)\n",
    "headers = pre_datasets.iloc[0]\n",
    "DATASETS  = pandas.DataFrame(pre_datasets.values[1:], columns=headers)\n",
    "# shape\n",
    "print(DATASETS.shape)"
   ]
  },
  {
   "cell_type": "code",
   "execution_count": 40,
   "metadata": {},
   "outputs": [
    {
     "name": "stdout",
     "output_type": "stream",
     "text": [
      "0          ID_REF    1007_s_at            1053_at       117_at  \\\n",
      "count          35           35                 35           35   \n",
      "unique         35           35                 35           35   \n",
      "top     GSM901345  10.21163591  7.285237647000001  4.914125521   \n",
      "freq            1            1                  1            1   \n",
      "\n",
      "0                  121_at    1255_g_at      1294_at      1316_at      1320_at  \\\n",
      "count                  35           35           35           35           35   \n",
      "unique                 35           35           35           35           35   \n",
      "top     7.107410357000001  2.929594878  7.786529389  4.223202464  4.985659053   \n",
      "freq                    1            1            1            1            1   \n",
      "\n",
      "0                1405_i_at  ... AFFX-r2-Ec-bioB-3_at AFFX-r2-Ec-bioB-5_at  \\\n",
      "count                   35  ...                   35                   35   \n",
      "unique                  35  ...                   35                   35   \n",
      "top     7.9777440839999985  ...          8.692048046          7.962154129   \n",
      "freq                     1  ...                    1                    1   \n",
      "\n",
      "0      AFFX-r2-Ec-bioB-M_at AFFX-r2-Ec-bioC-3_at AFFX-r2-Ec-bioC-5_at  \\\n",
      "count                    35                   35                   35   \n",
      "unique                   35                   35                   35   \n",
      "top       8.419149577999999          10.01025776          9.831641568   \n",
      "freq                      1                    1                    1   \n",
      "\n",
      "0      AFFX-r2-Ec-bioD-3_at AFFX-r2-Ec-bioD-5_at AFFX-r2-P1-cre-3_at  \\\n",
      "count                    35                   35                  35   \n",
      "unique                   35                   35                  35   \n",
      "top             12.67436233          11.64785737         13.83121913   \n",
      "freq                      1                    1                   1   \n",
      "\n",
      "0      AFFX-r2-P1-cre-5_at              STATUS  \n",
      "count                   35                  35  \n",
      "unique                  35                   3  \n",
      "top            13.81758701  ulcerative colitis  \n",
      "freq                     1                  15  \n",
      "\n",
      "[4 rows x 54677 columns]\n",
      "ID_REF\n",
      "GSM901319    1\n",
      "GSM901320    1\n",
      "GSM901321    1\n",
      "GSM901322    1\n",
      "GSM901323    1\n",
      "GSM901324    1\n",
      "GSM901325    1\n",
      "GSM901326    1\n",
      "GSM901327    1\n",
      "GSM901328    1\n",
      "GSM901329    1\n",
      "GSM901330    1\n",
      "GSM901331    1\n",
      "GSM901332    1\n",
      "GSM901333    1\n",
      "GSM901334    1\n",
      "GSM901335    1\n",
      "GSM901336    1\n",
      "GSM901337    1\n",
      "GSM901338    1\n",
      "GSM901339    1\n",
      "GSM901340    1\n",
      "GSM901341    1\n",
      "GSM901342    1\n",
      "GSM901343    1\n",
      "GSM901344    1\n",
      "GSM901345    1\n",
      "GSM901346    1\n",
      "GSM901347    1\n",
      "GSM901348    1\n",
      "GSM901349    1\n",
      "GSM901350    1\n",
      "GSM901351    1\n",
      "GSM901352    1\n",
      "GSM901353    1\n",
      "dtype: int64\n"
     ]
    }
   ],
   "source": [
    "# descriptions\n",
    "print(DATASETS.describe())\n",
    "# class distribution\n",
    "print(DATASETS.groupby('ID_REF').size()) #confirm tbat there are no duplicate entity data"
   ]
  },
  {
   "cell_type": "code",
   "execution_count": null,
   "metadata": {},
   "outputs": [],
   "source": []
  },
  {
   "cell_type": "code",
   "execution_count": null,
   "metadata": {},
   "outputs": [],
   "source": []
  }
 ],
 "metadata": {
  "kernelspec": {
   "display_name": "Python 3",
   "language": "python",
   "name": "python3"
  },
  "language_info": {
   "codemirror_mode": {
    "name": "ipython",
    "version": 3
   },
   "file_extension": ".py",
   "mimetype": "text/x-python",
   "name": "python",
   "nbconvert_exporter": "python",
   "pygments_lexer": "ipython3",
   "version": "3.8.5"
  }
 },
 "nbformat": 4,
 "nbformat_minor": 4
}
