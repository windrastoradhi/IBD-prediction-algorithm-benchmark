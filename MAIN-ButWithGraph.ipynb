{
 "cells": [
  {
   "cell_type": "markdown",
   "metadata": {},
   "source": [
    "# Version Check"
   ]
  },
  {
   "cell_type": "code",
   "execution_count": 1,
   "metadata": {},
   "outputs": [
    {
     "name": "stdout",
     "output_type": "stream",
     "text": [
      "Python: 3.8.5 (default, Sep  3 2020, 21:29:08) [MSC v.1916 64 bit (AMD64)]\n",
      "scipy: 1.5.2\n",
      "numpy: 1.19.2\n",
      "matplotlib: 3.3.2\n",
      "pandas: 1.1.3\n",
      "sklearn: 0.23.2\n"
     ]
    }
   ],
   "source": [
    "# Python version\n",
    "import sys\n",
    "print('Python: {}'.format(sys.version))\n",
    "# scipy\n",
    "import scipy\n",
    "print('scipy: {}'.format(scipy.__version__))\n",
    "# numpy\n",
    "import numpy\n",
    "print('numpy: {}'.format(numpy.__version__))\n",
    "# matplotlib\n",
    "import matplotlib\n",
    "print('matplotlib: {}'.format(matplotlib.__version__))\n",
    "# pandas\n",
    "import pandas\n",
    "print('pandas: {}'.format(pandas.__version__))\n",
    "# scikit-learn\n",
    "import sklearn\n",
    "print('sklearn: {}'.format(sklearn.__version__))  "
   ]
  },
  {
   "cell_type": "markdown",
   "metadata": {},
   "source": [
    "# Load Libraries"
   ]
  },
  {
   "cell_type": "code",
   "execution_count": 2,
   "metadata": {},
   "outputs": [],
   "source": [
    "# Load libraries\n",
    "from pandas import read_csv\n",
    "from pandas.plotting import scatter_matrix\n",
    "from matplotlib import pyplot\n",
    "from sklearn.model_selection import train_test_split\n",
    "from sklearn.model_selection import cross_val_score, cross_validate\n",
    "from sklearn.model_selection import StratifiedKFold, KFold, RepeatedKFold\n",
    "from sklearn.metrics import classification_report\n",
    "from sklearn.metrics import confusion_matrix\n",
    "from sklearn.metrics import accuracy_score\n",
    "from sklearn.linear_model import LogisticRegression\n",
    "from sklearn.tree import DecisionTreeClassifier\n",
    "from sklearn.neighbors import KNeighborsClassifier\n",
    "from sklearn.discriminant_analysis import LinearDiscriminantAnalysis\n",
    "from sklearn.naive_bayes import GaussianNB\n",
    "from sklearn.ensemble import GradientBoostingClassifier, RandomForestClassifier\n",
    "from sklearn.neural_network import MLPClassifier\n",
    "from sklearn.svm import SVC\n",
    "from sklearn.preprocessing import LabelEncoder, StandardScaler\n",
    "import matplotlib.pyplot as plt\n",
    "from sklearn.metrics import roc_auc_score, roc_curve\n",
    "import csv\n",
    "import os\n",
    "import re\n",
    "from sklearn.utils.class_weight import compute_class_weight\n",
    "import statistics\n",
    "from cycler import cycler\n",
    "from itertools import product"
   ]
  },
  {
   "cell_type": "code",
   "execution_count": 3,
   "metadata": {},
   "outputs": [],
   "source": [
    "pre_datasets = pandas.read_csv('datasets_T.csv', low_memory=False)\n",
    "headers = pre_datasets.iloc[0]\n",
    "DATASETS  = pandas.DataFrame(pre_datasets.values[1:], columns=headers)\n",
    "DATASETS = DATASETS.dropna(axis='columns', how='all')\n",
    "CLASSIFICATION = DATASETS['STATUS']"
   ]
  },
  {
   "cell_type": "code",
   "execution_count": 4,
   "metadata": {},
   "outputs": [
    {
     "name": "stdout",
     "output_type": "stream",
     "text": [
      "22    ulcerative colitis\n",
      "0        Healthy control\n",
      "18       Crohn's disease\n",
      "27    ulcerative colitis\n",
      "1        Healthy control\n",
      "Name: STATUS, dtype: object\n",
      "training dataset count: 30\n",
      "test dataset count: 5\n",
      "total dataset count: 35\n",
      "\n",
      "<class 'pandas.core.series.Series'>\n",
      "<class 'numpy.ndarray'>\n",
      "12 13 5\n"
     ]
    }
   ],
   "source": [
    "encoder = LabelEncoder()\n",
    "DATASETS['ID_REF'] = encoder.fit_transform(DATASETS['ID_REF'])\n",
    "# CLASSIFICATION = pandas.Series(encoder.fit_transform(CLASSIFICATION),\n",
    "#     index=CLASSIFICATION.index, name=CLASSIFICATION.name)\n",
    "# print(CLASSIFICATION)\n",
    "x_train, x_validate, y_train, y_validate = train_test_split(\n",
    "DATASETS.drop(labels='STATUS', axis=1), CLASSIFICATION, test_size=5, random_state=8) #.26,8\n",
    "print(y_validate)\n",
    "sc = StandardScaler()\n",
    "x_train = sc.fit_transform(x_train)\n",
    "x_validate = sc.transform(x_validate)\n",
    "\n",
    "print(\"training dataset count:\", len(y_train))\n",
    "print(\"test dataset count:\", len(y_validate))\n",
    "print(\"total dataset count:\",len(y_train)+len(y_validate))\n",
    "print()\n",
    "print(type(y_train))\n",
    "print(type(x_train))\n",
    "counterCD=0\n",
    "counterUC=0\n",
    "counterH=0\n",
    "for i in y_train:\n",
    "    if i == \"Crohn's disease\": counterCD+=1\n",
    "    elif i == 'ulcerative colitis': counterUC+=1\n",
    "    elif i == 'Healthy control': counterH+=1\n",
    "print(counterCD,counterUC,counterH)\n",
    "#note to self 1: nth y_train diagnose label's data is equal to nth x_train array, iterate linearly with for loop here\n",
    "#note to self 2: the data format is -> y is label TEXT    x is list of float"
   ]
  },
  {
   "cell_type": "code",
   "execution_count": 5,
   "metadata": {},
   "outputs": [],
   "source": [
    "# print('='*40) ############### main part ##############\n",
    "xtempUC = []\n",
    "xtempCD = []\n",
    "xtempHC = []\n",
    "\n",
    "ytempUC = pandas.Series(dtype='float64')\n",
    "ytempCD = pandas.Series(dtype='float64')\n",
    "ytempHC = pandas.Series(dtype='float64')\n",
    "\n",
    "iter=0\n",
    "for i in y_train:\n",
    "    if i == 'ulcerative colitis':\n",
    "        xtempUC+=[x_train[iter]]\n",
    "        ytempUC = ytempUC.append((y_train.iloc[[iter]]))\n",
    "    elif i == \"Crohn's disease\":\n",
    "        xtempCD+=[x_train[iter]]\n",
    "        ytempCD = ytempCD.append((y_train.iloc[[iter]]))\n",
    "    elif i == \"Healthy control\":\n",
    "        xtempHC+=[x_train[iter]]\n",
    "        ytempHC = ytempHC.append((y_train.iloc[[iter]]))\n",
    "    iter+=1\n",
    "    \n",
    "xtempUC = numpy.array(xtempUC)\n",
    "xtempCD = numpy.array(xtempCD)\n",
    "xtempHC = numpy.array(xtempHC)"
   ]
  },
  {
   "cell_type": "code",
   "execution_count": 6,
   "metadata": {},
   "outputs": [],
   "source": [
    "################################################################################################################\n",
    "#  plan:\n",
    "#  append tempUC/CD/HC to 5 training set (x array/y series) in a way that distribution is\n",
    "#          l l l l l\n",
    "#          i i i i i\n",
    "#          s s s s s\n",
    "#          t t t t t\n",
    "#          1 2 3 4 5\n",
    "#        --------------\n",
    "#  13 UC : 3 2 3 2 3\n",
    "#  12 CD : 2 3 2 3 2\n",
    "#   5 HC : 1 1 1 1 1\n",
    "#  ------------------ +\n",
    "#  total : 6 6 6 6 6 of each respective temporary set\n",
    "#  \n",
    "#  this temporary set will be consecutively appended in a way that:\n",
    "#  list n   =            \"n\"th set of 6\n",
    "#  list n+1 = list n + \"n+1\"th set of 6\n",
    "#\n",
    "#  approach: swap CD's sublist with length of 2 to the front, and append nth tempUC/CD/HC into a temporary list\n",
    "################################################################################################################\n",
    "\n",
    "dictoflists = {1:[],2:[],3:[],4:[],5:[]}\n",
    "\n",
    "counter = 0\n",
    "for i in xtempUC:\n",
    "    dictoflists[counter%len(dictoflists)+1].append(i)\n",
    "    counter+=1\n",
    "for i in xtempCD:\n",
    "    dictoflists[counter%len(dictoflists)+1].append(i)\n",
    "    counter+=1\n",
    "for i in xtempHC:\n",
    "    dictoflists[counter%len(dictoflists)+1].append(i)\n",
    "    counter+=1\n",
    "    \n",
    "xtemp1 = dictoflists[1]\n",
    "xtemp2 = xtemp1 + dictoflists[2]\n",
    "xtemp3 = xtemp2 + dictoflists[3]\n",
    "xtemp4 = xtemp3 + dictoflists[4]\n",
    "xtemp5 = xtemp4 + dictoflists[5]\n",
    "\n",
    "xtemp1 = numpy.array(xtemp1)\n",
    "xtemp2 = numpy.array(xtemp2)\n",
    "xtemp3 = numpy.array(xtemp3)\n",
    "xtemp4 = numpy.array(xtemp4)\n",
    "xtemp5 = numpy.array(xtemp5)\n",
    "\n",
    "if (numpy.array_equiv(numpy.sort(xtemp5,axis=0), numpy.sort(x_train,axis=0))) == False:\n",
    "    print(False)\n",
    "################################################################################################################"
   ]
  },
  {
   "cell_type": "code",
   "execution_count": 7,
   "metadata": {},
   "outputs": [
    {
     "name": "stdout",
     "output_type": "stream",
     "text": [
      "unique\n"
     ]
    }
   ],
   "source": [
    "dictoflists = {1:[],2:[],3:[],4:[],5:[]}\n",
    "\n",
    "counter = 0\n",
    "for i in ytempUC:\n",
    "    dictoflists[counter%len(dictoflists)+1].append(i)\n",
    "    counter+=1\n",
    "for i in ytempCD:\n",
    "    dictoflists[counter%len(dictoflists)+1].append(i)\n",
    "    counter+=1\n",
    "for i in ytempHC:\n",
    "    dictoflists[counter%len(dictoflists)+1].append(i)\n",
    "    counter+=1\n",
    "    \n",
    "ytemp1 = dictoflists[1]\n",
    "ytemp2 = ytemp1 + dictoflists[2]\n",
    "ytemp3 = ytemp2 + dictoflists[3]\n",
    "ytemp4 = ytemp3 + dictoflists[4]\n",
    "ytemp5 = ytemp4 + dictoflists[5]\n",
    "\n",
    "tempindex=[]\n",
    "for testiter in x_train:\n",
    "    index = 0\n",
    "    for i in xtemp5:\n",
    "        if all(i==testiter):\n",
    "            tempindex.append(index)\n",
    "        index+=1\n",
    "ytemp1 = pandas.Series(ytemp1,index=tempindex[0:len(ytemp1)])\n",
    "ytemp2 = pandas.Series(ytemp2,index=tempindex[0:len(ytemp2)])\n",
    "ytemp3 = pandas.Series(ytemp3,index=tempindex[0:len(ytemp3)])\n",
    "ytemp4 = pandas.Series(ytemp4,index=tempindex[0:len(ytemp4)])\n",
    "ytemp5 = pandas.Series(ytemp5,index=tempindex[0:len(ytemp5)]) \n",
    "\n",
    "flag = len(set(tempindex)) == len(tempindex) \n",
    "if(flag):\n",
    "    print(\"unique\")"
   ]
  },
  {
   "cell_type": "code",
   "execution_count": 58,
   "metadata": {},
   "outputs": [
    {
     "name": "stdout",
     "output_type": "stream",
     "text": [
      "TRAINING ITERATION: proceeding with datasets of 6 samples\n",
      "Accuracy of LR:  0.8\n",
      "Accuracy of LDA:  0.4\n",
      "Accuracy of KNN:  0.6\n",
      "Accuracy of CART:  0.2\n",
      "Accuracy of NB:  0.4\n",
      "Accuracy of SVM:  0.4\n",
      "Accuracy of GB:  0.6\n",
      "Accuracy of MLP:  0.6\n",
      "Accuracy of RF:  0.6\n",
      "##################################################\n",
      "TRAINING ITERATION: proceeding with datasets of 12 samples\n",
      "Accuracy of LR:  0.8\n",
      "Accuracy of LDA:  0.4\n",
      "Accuracy of KNN:  0.6\n",
      "Accuracy of CART:  0.8\n",
      "Accuracy of NB:  0.4\n",
      "Accuracy of SVM:  0.4\n",
      "Accuracy of GB:  0.6\n",
      "Accuracy of MLP:  0.8\n",
      "Accuracy of RF:  0.6\n",
      "##################################################\n",
      "TRAINING ITERATION: proceeding with datasets of 18 samples\n",
      "Accuracy of LR:  0.8\n",
      "Accuracy of LDA:  0.4\n",
      "Accuracy of KNN:  0.6\n",
      "Accuracy of CART:  0.4\n",
      "Accuracy of NB:  0.4\n",
      "Accuracy of SVM:  0.4\n",
      "Accuracy of GB:  0.4\n",
      "Accuracy of MLP:  0.8\n",
      "Accuracy of RF:  0.6\n",
      "##################################################\n",
      "TRAINING ITERATION: proceeding with datasets of 24 samples\n",
      "Accuracy of LR:  0.8\n",
      "Accuracy of LDA:  0.4\n",
      "Accuracy of KNN:  0.6\n",
      "Accuracy of CART:  0.4\n",
      "Accuracy of NB:  0.4\n",
      "Accuracy of SVM:  0.4\n",
      "Accuracy of GB:  0.8\n",
      "Accuracy of MLP:  0.4\n",
      "Accuracy of RF:  0.6\n",
      "##################################################\n",
      "TRAINING ITERATION: proceeding with datasets of 30 samples\n",
      "Accuracy of LR:  0.8\n",
      "Accuracy of LDA:  0.4\n",
      "Accuracy of KNN:  0.6\n",
      "Accuracy of CART:  0.2\n",
      "Accuracy of NB:  0.4\n",
      "Accuracy of SVM:  0.4\n",
      "Accuracy of GB:  0.8\n",
      "Accuracy of MLP:  0.6\n",
      "Accuracy of RF:  0.4\n",
      "##################################################\n"
     ]
    }
   ],
   "source": [
    "models = []\n",
    "models.append(('LR', LogisticRegression(solver='liblinear', multi_class='ovr')))\n",
    "models.append(('LDA', LinearDiscriminantAnalysis()))\n",
    "models.append(('KNN', KNeighborsClassifier()))\n",
    "models.append(('CART', DecisionTreeClassifier()))\n",
    "models.append(('NB', GaussianNB()))\n",
    "models.append(('SVM', SVC(gamma='auto',probability=True)))\n",
    "models.append(('GB', GradientBoostingClassifier()))\n",
    "models.append(('MLP', MLPClassifier()))\n",
    "models.append(('RF', RandomForestClassifier()))\n",
    "\n",
    "results = []\n",
    "names = []\n",
    "\n",
    "x_trains= [xtemp1,xtemp2,xtemp3,xtemp4,xtemp5]\n",
    "y_trains= [ytemp1,ytemp2,ytemp3,ytemp4,ytemp5]\n",
    "\n",
    "for i in range(len(x_trains)):\n",
    "    print(\"TRAINING ITERATION: proceeding with datasets of {} samples\".format((i+1)*6))\n",
    "    theresult=[]\n",
    "    nametemp=[]\n",
    "    for name, model in models:\n",
    "        mlmodel = model.fit(xtemp1, ytemp1.values.ravel())\n",
    "        cv_result = mlmodel.score(x_validate,y_validate)\n",
    "        theresult.append(cv_result)\n",
    "        nametemp.append(name)\n",
    "        print (\"Accuracy of {}: \".format(name), cv_result)\n",
    "\n",
    "    results.append(theresult)\n",
    "    names.append(nametemp)\n",
    "    print(\"#\"*50)"
   ]
  },
  {
   "cell_type": "code",
   "execution_count": 60,
   "metadata": {},
   "outputs": [
    {
     "name": "stdout",
     "output_type": "stream",
     "text": [
      "[0.8, 0.4, 0.6, 0.2, 0.4, 0.4, 0.6, 0.6, 0.6]\n",
      "[0.8, 0.4, 0.6, 0.8, 0.4, 0.4, 0.6, 0.8, 0.6]\n",
      "[0.8, 0.4, 0.6, 0.4, 0.4, 0.4, 0.4, 0.8, 0.6]\n",
      "[0.8, 0.4, 0.6, 0.4, 0.4, 0.4, 0.8, 0.4, 0.6]\n",
      "[0.8, 0.4, 0.6, 0.2, 0.4, 0.4, 0.8, 0.6, 0.4]\n"
     ]
    },
    {
     "data": {
      "image/png": "[encoded data removed]",
      "text/plain": [
       "<Figure size 432x288 with 1 Axes>"
      ]
     },
     "metadata": {
      "needs_background": "light"
     },
     "output_type": "display_data"
    }
   ],
   "source": [
    "means=[]\n",
    "for i in results:\n",
    "    means.append(statistics.mean(i))\n",
    "    print(i)\n",
    "\n",
    "# x coordinates for the lines\n",
    "xcoords = list(range(6,36,6)) \n",
    "f,ax = pyplot.subplots()\n",
    "a = cycler('linestyle',(':',(0,(3,5,1,3,1,5)),(0,(0,5,3,5))))\n",
    "b = cycler('color',['yellow',\n",
    "                    'steelblue',\n",
    "                    'aquamarine',\n",
    "                    'darkorchid',\n",
    "                    'crimson',\n",
    "                    'wheat',\n",
    "                    'green',\n",
    "                    'cadetblue',\n",
    "                    'chocolate'])\n",
    "cy=a*b\n",
    "\n",
    "ax.set_prop_cycle(cy)\n",
    "pyplot.plot(numpy.arange(6,36,6),results,linewidth=1)\n",
    "for i in xcoords:\n",
    "    pyplot.axvline(x=i, color='k',alpha=0.1,linewidth=1)\n",
    "pyplot.xticks(numpy.arange(6,36,6))\n",
    "pyplot.title('Algorithm Comparison')\n",
    "pyplot.legend(names[0],bbox_to_anchor=(1.05,1),loc='upper left')\n",
    "pyplot.show()"
   ]
  },
  {
   "cell_type": "code",
   "execution_count": 107,
   "metadata": {},
   "outputs": [
    {
     "name": "stdout",
     "output_type": "stream",
     "text": [
      "[ 6 12 18 24 30]\n",
      "\n",
      "0.0 | 0.8\n",
      "[0.8, 0.8, 0.8, 0.8, 0.8, 0.8, 0.8, 0.8, 0.8, 0.8, 0.8, 0.8, 0.8, 0.8, 0.8]\n",
      "----------------------------------------------------------------------------------------------------\n",
      "0.0 | 0.4\n",
      "[0.4, 0.4, 0.4, 0.4, 0.4, 0.4, 0.4, 0.4, 0.4, 0.4, 0.4, 0.4, 0.4, 0.4, 0.4]\n",
      "----------------------------------------------------------------------------------------------------\n",
      "0.0 | 0.6\n",
      "[0.6, 0.6, 0.6, 0.6, 0.6, 0.6, 0.6, 0.6, 0.6, 0.6, 0.6, 0.6, 0.6, 0.6, 0.6]\n",
      "----------------------------------------------------------------------------------------------------\n",
      "-0.006666666666666651 | 0.5199999999999998\n",
      "[0.6, 0.6, 0.6, 0.6, 0.4, 0.4, 0.4, 0.4, 0.4, 0.4, 0.4, 0.4, 0.4, 0.4, 0.4]\n",
      "----------------------------------------------------------------------------------------------------\n",
      "0.0 | 0.4\n",
      "[0.4, 0.4, 0.4, 0.4, 0.4, 0.4, 0.4, 0.4, 0.4, 0.4, 0.4, 0.4, 0.4, 0.4, 0.4]\n",
      "----------------------------------------------------------------------------------------------------\n",
      "0.0 | 0.4\n",
      "[0.4, 0.4, 0.4, 0.4, 0.4, 0.4, 0.4, 0.4, 0.4, 0.4, 0.4, 0.4, 0.4, 0.4, 0.4]\n",
      "----------------------------------------------------------------------------------------------------\n",
      "0.01 | 0.46\n",
      "[0.4, 0.4, 0.4, 0.4, 0.6, 0.6, 0.6, 0.6, 0.6, 0.6, 0.6, 0.6, 0.6, 0.6, 0.6]\n",
      "----------------------------------------------------------------------------------------------------\n",
      "-0.006666666666666667 | 0.76\n",
      "[0.8, 0.8, 0.8, 0.8, 0.8, 0.8, 0.8, 0.8, 0.8, 0.8, 0.6, 0.6, 0.6, 0.6, 0.6]\n",
      "----------------------------------------------------------------------------------------------------\n",
      "-0.006666666666666651 | 0.68\n",
      "[0.6, 0.6, 0.6, 0.6, 0.6, 0.6, 0.6, 0.6, 0.6, 0.6, 0.6, 0.6, 0.6, 0.6, 0.6]\n",
      "----------------------------------------------------------------------------------------------------\n",
      "|||| PREDICTION DATASET ||||\n",
      "[0.8, 0.4, 0.6, 0.6, 0.4, 0.4, 0.4, 0.8, 0.6]\n",
      "[0.8, 0.4, 0.6, 0.6, 0.4, 0.4, 0.4, 0.8, 0.6]\n",
      "[0.8, 0.4, 0.6, 0.6, 0.4, 0.4, 0.4, 0.8, 0.6]\n",
      "[0.8, 0.4, 0.6, 0.6, 0.4, 0.4, 0.4, 0.8, 0.6]\n",
      "[0.8, 0.4, 0.6, 0.4, 0.4, 0.4, 0.6, 0.8, 0.6]\n",
      "[0.8, 0.4, 0.6, 0.4, 0.4, 0.4, 0.6, 0.8, 0.6]\n",
      "[0.8, 0.4, 0.6, 0.4, 0.4, 0.4, 0.6, 0.8, 0.6]\n",
      "[0.8, 0.4, 0.6, 0.4, 0.4, 0.4, 0.6, 0.8, 0.6]\n",
      "[0.8, 0.4, 0.6, 0.4, 0.4, 0.4, 0.6, 0.8, 0.6]\n",
      "[0.8, 0.4, 0.6, 0.4, 0.4, 0.4, 0.6, 0.8, 0.6]\n",
      "[0.8, 0.4, 0.6, 0.4, 0.4, 0.4, 0.6, 0.6, 0.6]\n",
      "[0.8, 0.4, 0.6, 0.4, 0.4, 0.4, 0.6, 0.6, 0.6]\n",
      "[0.8, 0.4, 0.6, 0.4, 0.4, 0.4, 0.6, 0.6, 0.6]\n",
      "[0.8, 0.4, 0.6, 0.4, 0.4, 0.4, 0.6, 0.6, 0.6]\n",
      "[0.8, 0.4, 0.6, 0.4, 0.4, 0.4, 0.6, 0.6, 0.6]\n"
     ]
    }
   ],
   "source": [
    "def linreg(X, Y):\n",
    "    \"\"\"\n",
    "    return a,b in solution to y = ax + b such that root mean square distance between trend line and original points is minimized\n",
    "    \"\"\"\n",
    "    N = len(X)\n",
    "    Sx = Sy = Sxx = Syy = Sxy = 0.0\n",
    "    for x, y in zip(X, Y):\n",
    "        Sx = Sx + x\n",
    "        Sy = Sy + y\n",
    "        Sxx = Sxx + x*x\n",
    "        Syy = Syy + y*y\n",
    "        Sxy = Sxy + x*y\n",
    "    det = Sxx * N - Sx * Sx\n",
    "    return (Sxy * N - Sy * Sx)/det, (Sxx * Sy - Sx * Sxy)/det\n",
    "\n",
    "predicted_linreg = []\n",
    "predictionrange = 15\n",
    "for i in range(9):\n",
    "    temp=[]\n",
    "    for j in range(5):\n",
    "#         print(results[j][i])\n",
    "        temp.append(results[j][i])\n",
    "    a,b=linreg(numpy.arange(6,36,6),temp)\n",
    "#     a = round(a,5)\n",
    "#     b = round(b,5)\n",
    "    print(a,\"|\",b)\n",
    "    extrapolated=[round(a*index + b, 2) for index in range(predictionrange)]\n",
    "#     print(len(extrapolated))\n",
    "#     print((extrapolated))\n",
    "    sub_linreg=[]\n",
    "    for i in extrapolated:\n",
    "        temp = list(str(i))\n",
    "        if len(temp) > 3:\n",
    "            if int(temp[2]) % 2 == 1:\n",
    "                if int(temp[3]) < 5:\n",
    "#                     print(round(i+0.1,1), '||CHECKED 1')\n",
    "                    sub_linreg.append(round(i+0.1,1))\n",
    "                else:\n",
    "#                     print(round(i,1), '||CHECKED 2')\n",
    "                    sub_linreg.append(round(i,1))\n",
    "            else:\n",
    "                if int(temp[3]) < 5:\n",
    "#                     print(round(i,1),'||CHECKED 3')\n",
    "                    sub_linreg.append(round(i,1))\n",
    "                else:\n",
    "#                     print(round(i-0.1,1), '||CHECKED 4')\n",
    "                    sub_linreg.append(round(i-0.1,1))\n",
    "        else:\n",
    "            if (int(temp[2])) % 2 == 1:\n",
    "#                 print(round(i+0.1,1),'||CHECKED 5')\n",
    "                sub_linreg.append(round(i+0.1,1))\n",
    "            else:\n",
    "#                 print(i)\n",
    "                sub_linreg.append(i)\n",
    "    print(sub_linreg)\n",
    "    predicted_linreg.append(sub_linreg)\n",
    "    print('-'*100)\n",
    "prediction=[]\n",
    "for i in range(predictionrange):\n",
    "    temp=[]\n",
    "    for j in range(len(predicted_linreg)):\n",
    "        temp.append(predicted_linreg[j][i])\n",
    "    prediction.append(temp)\n",
    "print(\"|||| PREDICTION DATASET ||||\")\n",
    "for i in prediction:\n",
    "    print(i)"
   ]
  },
  {
   "cell_type": "code",
   "execution_count": 158,
   "metadata": {},
   "outputs": [
    {
     "data": {
      "image/png": "[encoded data removed]",
      "text/plain": [
       "<Figure size 1188x612 with 1 Axes>"
      ]
     },
     "metadata": {
      "needs_background": "light"
     },
     "output_type": "display_data"
    }
   ],
   "source": [
    "# x coordinates for the lines\n",
    "xcoords = list(range(5,(predictionrange*6)+36,5)) \n",
    "f,ax = pyplot.subplots()\n",
    "a = cycler('linestyle',(':',(0,(3,5,1,3,1,5)),(0,(0,5,3,5))))\n",
    "b = cycler('color',['goldenrod',\n",
    "                    'steelblue',\n",
    "                    'aquamarine',\n",
    "                    'darkorchid',\n",
    "                    'crimson',\n",
    "                    'wheat',\n",
    "                    'green',\n",
    "                    'cadetblue',\n",
    "                    'chocolate'])\n",
    "cy=a*b\n",
    "\n",
    "plotdataset= results+prediction\n",
    "ax.set_prop_cycle(cy)\n",
    "pyplot.plot(numpy.arange(6,(predictionrange*6)+36,6),plotdataset,linewidth=2, alpha=0.8)\n",
    "for i in xcoords:\n",
    "    pyplot.axvline(x=i, color='k',alpha=0.1,linewidth=1)\n",
    "\n",
    "# myticks = numpy.arange(6,(predictionrange*6)+36)\n",
    "# print(myticks[3])\n",
    "xticks = ax.xaxis.get_major_ticks()\n",
    "pyplot.title('Algorithm Comparison with predicted performance of up to {a} dataset'.format(a=(predictionrange*6)+30),fontsize=20)\n",
    "pyplot.legend(names[0],bbox_to_anchor=(1.05,1),loc='upper left',prop={'size': 10})\n",
    "pyplot.xlabel('Dataset size',fontsize=20)\n",
    "pyplot.ylabel('Model accuracy (1 is 100%)',fontsize=20)\n",
    "fig = matplotlib.pyplot.gcf()\n",
    "fig.set_size_inches(16.5, 8.5)\n",
    "fig.savefig('algorithm_comparison.png', dpi=100)\n",
    "pyplot.show()"
   ]
  },
  {
   "cell_type": "code",
   "execution_count": 148,
   "metadata": {},
   "outputs": [
    {
     "data": {
      "text/plain": [
       "22    ulcerative colitis\n",
       "0        Healthy control\n",
       "18       Crohn's disease\n",
       "27    ulcerative colitis\n",
       "1        Healthy control\n",
       "Name: STATUS, dtype: object"
      ]
     },
     "execution_count": 148,
     "metadata": {},
     "output_type": "execute_result"
    }
   ],
   "source": [
    "y_validate"
   ]
  },
  {
   "cell_type": "code",
   "execution_count": null,
   "metadata": {},
   "outputs": [],
   "source": [
    "print(\"Performance report\")\n",
    "print(\"#\"*100)\n",
    "model1 = SVC(class_weight='balanced', kernel='rbf')\n",
    "# model1 = DecisionTreeClassifier()\n",
    "model1.fit(x_train, y_train)\n",
    "predictions1 = model1.predict(x_validate)\n",
    "print(\"Accuracy:\", accuracy_score(y_validate, predictions1))\n",
    "print(confusion_matrix(y_validate, predictions1))\n",
    "print(classification_report(y_validate, predictions1))"
   ]
  },
  {
   "cell_type": "code",
   "execution_count": 17,
   "metadata": {},
   "outputs": [
    {
     "name": "stdout",
     "output_type": "stream",
     "text": [
      "Prediction Classifier v2.0\n",
      "####################################################################################################\n",
      "LR : 0.45454545454545453\n",
      "LDA : 0.6363636363636364\n",
      "KNN : 0.5454545454545454\n",
      "CART : 0.18181818181818182\n",
      "NB : 0.6363636363636364\n",
      "SVM : 0.8181818181818182\n",
      "GB : 0.7272727272727273\n",
      "MLP : 0.36363636363636365\n",
      "RF : 0.5454545454545454\n"
     ]
    }
   ],
   "source": [
    "print(\"Prediction Classifier v2.0\")\n",
    "print(\"#\"*100)\n",
    "\n",
    "for name, model in models:\n",
    "    MODEL = model\n",
    "    MODEL.fit(x_train, y_train)\n",
    "    predictions1 = MODEL.predict(x_validate)\n",
    "    print(name, \":\", accuracy_score(y_validate, predictions1))"
   ]
  },
  {
   "cell_type": "code",
   "execution_count": 8,
   "metadata": {},
   "outputs": [
    {
     "name": "stdout",
     "output_type": "stream",
     "text": [
      "0.8181818181818182\n",
      "[[4 0 0]\n",
      " [1 1 0]\n",
      " [1 0 4]]\n",
      "                    precision    recall  f1-score   support\n",
      "\n",
      "   Crohn's disease       0.67      1.00      0.80         4\n",
      "   Healthy control       1.00      0.50      0.67         2\n",
      "ulcerative colitis       1.00      0.80      0.89         5\n",
      "\n",
      "          accuracy                           0.82        11\n",
      "         macro avg       0.89      0.77      0.79        11\n",
      "      weighted avg       0.88      0.82      0.82        11\n",
      "\n"
     ]
    }
   ],
   "source": [
    "model1 = SVC(class_weight='balanced', kernel='rbf')\n",
    "model1.fit(x_train, y_train)\n",
    "predictions1 = model1.predict(x_validate)\n",
    "print(accuracy_score(y_validate, predictions1))\n",
    "print(confusion_matrix(y_validate, predictions1))\n",
    "print(classification_report(y_validate, predictions1))"
   ]
  },
  {
   "cell_type": "code",
   "execution_count": 123,
   "metadata": {},
   "outputs": [
    {
     "name": "stdout",
     "output_type": "stream",
     "text": [
      "Logistic Regression\n",
      "####################################################################################################\n",
      "0.7272727272727273\n",
      "[[2 2 0]\n",
      " [0 2 0]\n",
      " [1 0 4]]\n",
      "                    precision    recall  f1-score   support\n",
      "\n",
      "   Crohn's disease       0.67      0.50      0.57         4\n",
      "   Healthy control       0.50      1.00      0.67         2\n",
      "ulcerative colitis       1.00      0.80      0.89         5\n",
      "\n",
      "          accuracy                           0.73        11\n",
      "         macro avg       0.72      0.77      0.71        11\n",
      "      weighted avg       0.79      0.73      0.73        11\n",
      "\n"
     ]
    }
   ],
   "source": [
    "print(\"Logistic Regression\")\n",
    "print(\"#\"*100)\n",
    "\n",
    "\n",
    "\n",
    "model2 = LogisticRegression(max_iter=1000, class_weight='balanced')\n",
    "# model2 = DecisionTreeClassifier(class_weight)\n",
    "model2.fit(x_train, y_train)\n",
    "predictions2 = model2.predict(x_validate)\n",
    "print(accuracy_score(y_validate, predictions2))\n",
    "print(confusion_matrix(y_validate, predictions2))\n",
    "print(classification_report(y_validate, predictions2))"
   ]
  },
  {
   "cell_type": "code",
   "execution_count": null,
   "metadata": {},
   "outputs": [],
   "source": []
  }
 ],
 "metadata": {
  "kernelspec": {
   "display_name": "Python 3",
   "language": "python",
   "name": "python3"
  },
  "language_info": {
   "codemirror_mode": {
    "name": "ipython",
    "version": 3
   },
   "file_extension": ".py",
   "mimetype": "text/x-python",
   "name": "python",
   "nbconvert_exporter": "python",
   "pygments_lexer": "ipython3",
   "version": "3.8.5"
  }
 },
 "nbformat": 4,
 "nbformat_minor": 4
}
