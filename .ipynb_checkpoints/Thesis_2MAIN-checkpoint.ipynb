{
 "cells": [
  {
   "cell_type": "markdown",
   "metadata": {},
   "source": [
    "# Version Check"
   ]
  },
  {
   "cell_type": "code",
   "execution_count": 1,
   "metadata": {},
   "outputs": [
    {
     "name": "stdout",
     "output_type": "stream",
     "text": [
      "Python: 3.8.5 (default, Sep  3 2020, 21:29:08) [MSC v.1916 64 bit (AMD64)]\n",
      "scipy: 1.5.2\n",
      "numpy: 1.19.2\n",
      "matplotlib: 3.3.2\n",
      "pandas: 1.1.3\n",
      "sklearn: 0.23.2\n"
     ]
    }
   ],
   "source": [
    "# Python version\n",
    "import sys\n",
    "print('Python: {}'.format(sys.version))\n",
    "# scipy\n",
    "import scipy\n",
    "print('scipy: {}'.format(scipy.__version__))\n",
    "# numpy\n",
    "import numpy\n",
    "print('numpy: {}'.format(numpy.__version__))\n",
    "# matplotlib\n",
    "import matplotlib\n",
    "print('matplotlib: {}'.format(matplotlib.__version__))\n",
    "# pandas\n",
    "import pandas\n",
    "print('pandas: {}'.format(pandas.__version__))\n",
    "# scikit-learn\n",
    "import sklearn\n",
    "print('sklearn: {}'.format(sklearn.__version__))  "
   ]
  },
  {
   "cell_type": "markdown",
   "metadata": {},
   "source": [
    "# Load Libraries"
   ]
  },
  {
   "cell_type": "code",
   "execution_count": 2,
   "metadata": {},
   "outputs": [],
   "source": [
    "# Load libraries\n",
    "from pandas import read_csv\n",
    "from pandas.plotting import scatter_matrix\n",
    "from matplotlib import pyplot\n",
    "from sklearn.model_selection import train_test_split\n",
    "from sklearn.model_selection import cross_val_score, cross_validate\n",
    "from sklearn.model_selection import StratifiedKFold, KFold, RepeatedKFold\n",
    "from sklearn.metrics import classification_report\n",
    "from sklearn.metrics import confusion_matrix\n",
    "from sklearn.metrics import accuracy_score\n",
    "from sklearn.linear_model import LogisticRegression\n",
    "from sklearn.tree import DecisionTreeClassifier\n",
    "from sklearn.neighbors import KNeighborsClassifier\n",
    "from sklearn.discriminant_analysis import LinearDiscriminantAnalysis\n",
    "from sklearn.naive_bayes import GaussianNB\n",
    "from sklearn.ensemble import GradientBoostingClassifier, RandomForestClassifier\n",
    "from sklearn.neural_network import MLPClassifier\n",
    "from sklearn.svm import SVC\n",
    "from sklearn.preprocessing import LabelEncoder, StandardScaler\n",
    "import matplotlib.pyplot as plt\n",
    "from sklearn.metrics import roc_auc_score, roc_curve\n",
    "import csv\n",
    "import os\n",
    "import re\n",
    "from sklearn.utils.class_weight import compute_class_weight"
   ]
  },
  {
   "cell_type": "code",
   "execution_count": 3,
   "metadata": {},
   "outputs": [],
   "source": [
    "pre_datasets = pandas.read_csv('datasets_T.csv', low_memory=False)\n",
    "headers = pre_datasets.iloc[0]\n",
    "DATASETS  = pandas.DataFrame(pre_datasets.values[1:], columns=headers)\n",
    "DATASETS = DATASETS.dropna(axis='columns', how='all')\n",
    "CLASSIFICATION = DATASETS['STATUS']"
   ]
  },
  {
   "cell_type": "code",
   "execution_count": 4,
   "metadata": {},
   "outputs": [
    {
     "name": "stdout",
     "output_type": "stream",
     "text": [
      "4        Healthy control\n",
      "34    ulcerative colitis\n",
      "18       Crohn's disease\n",
      "22    ulcerative colitis\n",
      "17       Crohn's disease\n",
      "20    ulcerative colitis\n",
      "15       Crohn's disease\n",
      "26    ulcerative colitis\n",
      "13       Crohn's disease\n",
      "32    ulcerative colitis\n",
      "5        Healthy control\n",
      "Name: STATUS, dtype: object\n"
     ]
    }
   ],
   "source": [
    "encoder = LabelEncoder()\n",
    "DATASETS['ID_REF'] = encoder.fit_transform(DATASETS['ID_REF'])\n",
    "# CLASSIFICATION = pandas.Series(encoder.fit_transform(CLASSIFICATION),\n",
    "#     index=CLASSIFICATION.index, name=CLASSIFICATION.name)\n",
    "\n",
    "x_train, x_validate, y_train, y_validate = train_test_split(\n",
    "DATASETS.drop(labels='STATUS', axis=1), CLASSIFICATION, test_size=0.3, random_state=3)\n",
    "print(y_validate)\n",
    "sc = StandardScaler()\n",
    "x_train = sc.fit_transform(x_train)\n",
    "x_validate = sc.transform(x_validate)\n"
   ]
  },
  {
   "cell_type": "code",
   "execution_count": 5,
   "metadata": {},
   "outputs": [
    {
     "name": "stdout",
     "output_type": "stream",
     "text": [
      ">Stratified KFold:\n",
      "LR: 0.775000 (0.165831)\n",
      "LDA: 0.816667 (0.213437)\n",
      "KNN: 0.816667 (0.132681)\n",
      "CART: 0.650000 (0.215058)\n",
      "NB: 0.537500 (0.192029)\n",
      "SVM: 0.350000 (0.238048)\n",
      "GB: 0.866667 (0.163299)\n",
      "MLP: 0.783333 (0.216346)\n",
      "RF: 0.833333 (0.182574)\n"
     ]
    }
   ],
   "source": [
    "models = []\n",
    "models.append(('LR', LogisticRegression(solver='liblinear', multi_class='ovr')))\n",
    "models.append(('LDA', LinearDiscriminantAnalysis()))\n",
    "models.append(('KNN', KNeighborsClassifier()))\n",
    "models.append(('CART', DecisionTreeClassifier()))\n",
    "models.append(('NB', GaussianNB()))\n",
    "models.append(('SVM', SVC(gamma='auto',probability=True)))\n",
    "models.append(('GB', GradientBoostingClassifier()))\n",
    "models.append(('MLP', MLPClassifier()))\n",
    "models.append(('RF', RandomForestClassifier()))\n",
    "\n",
    "results1 = []\n",
    "results2 = []\n",
    "results3 = []\n",
    "names = []\n",
    "\n",
    "print(\">Stratified KFold:\")\n",
    "for name, model in models:\n",
    "    kfold = StratifiedKFold(n_splits=5, random_state=1, shuffle=True)\n",
    "    cv_results = cross_val_score(model, x_train, y_train, cv=kfold, scoring='roc_auc_ovo')\n",
    "    results1.append(cv_results)\n",
    "    names.append(name)\n",
    "    print('%s: %f (%f)' % (name, cv_results.mean(), cv_results.std()))\n",
    "    \n",
    "# print(\"\\n\"+\">Repeated KFold:\")\n",
    "# for name, model in models:\n",
    "#     kfold = RepeatedKFold(n_splits=5, n_repeats=10, random_state=1) #10 repeat is default\n",
    "#     try:\n",
    "#         cv_results = cross_val_score(model, x_train, y_train, cv=kfold, scoring='roc_auc_ovr')\n",
    "#     except ValueError:\n",
    "#         pass\n",
    "#     results2.append(cv_results)\n",
    "\n",
    "#     print('%s: %f (%f)' % (name, cv_results.mean(), cv_results.std()))\n",
    "    \n",
    "# print(\"\\n\"+\">KFold:\")\n",
    "# for name, model in models:\n",
    "#     kfold = KFold(n_splits=5, random_state=1, shuffle=True)\n",
    "#     cv_results = cross_val_score(model, x_train, y_train, cv=kfold, scoring='roc_auc_ovr')\n",
    "#     results3.append(cv_results)\n",
    "\n",
    "#     print('%s: %f (%f)' % (name, cv_results.mean(), cv_results.std()))"
   ]
  },
  {
   "cell_type": "code",
   "execution_count": 6,
   "metadata": {},
   "outputs": [
    {
     "data": {
      "image/png": "[encoded data removed]",
      "text/plain": [
       "<Figure size 432x288 with 1 Axes>"
      ]
     },
     "metadata": {
      "needs_background": "light"
     },
     "output_type": "display_data"
    }
   ],
   "source": [
    "pyplot.boxplot(results1, labels=names)\n",
    "pyplot.title('Algorithm Comparison (Stratified KFold)')\n",
    "pyplot.show()"
   ]
  },
  {
   "cell_type": "code",
   "execution_count": 16,
   "metadata": {},
   "outputs": [
    {
     "data": {
      "image/png": "[encoded data removed]",
      "text/plain": [
       "<Figure size 432x288 with 1 Axes>"
      ]
     },
     "metadata": {
      "needs_background": "light"
     },
     "output_type": "display_data"
    }
   ],
   "source": [
    "pyplot.boxplot(results1, labels=names)\n",
    "pyplot.title('Algorithm Comparison (Stratified KFold)')\n",
    "pyplot.show()"
   ]
  },
  {
   "cell_type": "code",
   "execution_count": 120,
   "metadata": {},
   "outputs": [
    {
     "data": {
      "image/png": "[encoded data removed]",
      "text/plain": [
       "<Figure size 432x288 with 1 Axes>"
      ]
     },
     "metadata": {
      "needs_background": "light"
     },
     "output_type": "display_data"
    }
   ],
   "source": [
    "pyplot.boxplot(results2, labels=names)\n",
    "pyplot.title('Algorithm Comparison (Repeated KFold)')\n",
    "pyplot.show()"
   ]
  },
  {
   "cell_type": "code",
   "execution_count": 17,
   "metadata": {},
   "outputs": [
    {
     "data": {
      "image/png": "[encoded data removed]",
      "text/plain": [
       "<Figure size 432x288 with 1 Axes>"
      ]
     },
     "metadata": {
      "needs_background": "light"
     },
     "output_type": "display_data"
    }
   ],
   "source": [
    "pyplot.boxplot(results2, labels=names)\n",
    "pyplot.title('Algorithm Comparison (Repeated KFold)')\n",
    "pyplot.show()"
   ]
  },
  {
   "cell_type": "code",
   "execution_count": 121,
   "metadata": {},
   "outputs": [
    {
     "data": {
      "image/png": "[encoded data removed]",
      "text/plain": [
       "<Figure size 432x288 with 1 Axes>"
      ]
     },
     "metadata": {
      "needs_background": "light"
     },
     "output_type": "display_data"
    }
   ],
   "source": [
    "pyplot.boxplot(results3, labels=names)\n",
    "pyplot.title('Algorithm Comparison (KFold)')\n",
    "pyplot.show()"
   ]
  },
  {
   "cell_type": "code",
   "execution_count": 18,
   "metadata": {},
   "outputs": [
    {
     "data": {
      "image/png": "[encoded data removed]",
      "text/plain": [
       "<Figure size 432x288 with 1 Axes>"
      ]
     },
     "metadata": {
      "needs_background": "light"
     },
     "output_type": "display_data"
    }
   ],
   "source": [
    "pyplot.boxplot(results3, labels=names)\n",
    "pyplot.title('Algorithm Comparison (KFold)')\n",
    "pyplot.show()"
   ]
  },
  {
   "cell_type": "code",
   "execution_count": 28,
   "metadata": {},
   "outputs": [
    {
     "name": "stdout",
     "output_type": "stream",
     "text": [
      "Performance report\n",
      "####################################################################################################\n",
      "Accuracy: 0.8181818181818182\n",
      "[[4 0 0]\n",
      " [1 1 0]\n",
      " [1 0 4]]\n",
      "                    precision    recall  f1-score   support\n",
      "\n",
      "   Crohn's disease       0.67      1.00      0.80         4\n",
      "   Healthy control       1.00      0.50      0.67         2\n",
      "ulcerative colitis       1.00      0.80      0.89         5\n",
      "\n",
      "          accuracy                           0.82        11\n",
      "         macro avg       0.89      0.77      0.79        11\n",
      "      weighted avg       0.88      0.82      0.82        11\n",
      "\n"
     ]
    }
   ],
   "source": [
    "print(\"Performance report\")\n",
    "print(\"#\"*100)\n",
    "model1 = SVC(class_weight='balanced', kernel='rbf')\n",
    "# model1 = DecisionTreeClassifier()\n",
    "model1.fit(x_train, y_train)\n",
    "predictions1 = model1.predict(x_validate)\n",
    "print(\"Accuracy:\", accuracy_score(y_validate, predictions1))\n",
    "print(confusion_matrix(y_validate, predictions1))\n",
    "print(classification_report(y_validate, predictions1))"
   ]
  },
  {
   "cell_type": "code",
   "execution_count": 17,
   "metadata": {},
   "outputs": [
    {
     "name": "stdout",
     "output_type": "stream",
     "text": [
      "Prediction Classifier v2.0\n",
      "####################################################################################################\n",
      "LR : 0.45454545454545453\n",
      "LDA : 0.6363636363636364\n",
      "KNN : 0.5454545454545454\n",
      "CART : 0.18181818181818182\n",
      "NB : 0.6363636363636364\n",
      "SVM : 0.8181818181818182\n",
      "GB : 0.7272727272727273\n",
      "MLP : 0.36363636363636365\n",
      "RF : 0.5454545454545454\n"
     ]
    }
   ],
   "source": [
    "print(\"Prediction Classifier v2.0\")\n",
    "print(\"#\"*100)\n",
    "\n",
    "for name, model in models:\n",
    "    MODEL = model\n",
    "    MODEL.fit(x_train, y_train)\n",
    "    predictions1 = MODEL.predict(x_validate)\n",
    "    print(name, \":\", accuracy_score(y_validate, predictions1))"
   ]
  },
  {
   "cell_type": "code",
   "execution_count": 8,
   "metadata": {},
   "outputs": [
    {
     "name": "stdout",
     "output_type": "stream",
     "text": [
      "0.8181818181818182\n",
      "[[4 0 0]\n",
      " [1 1 0]\n",
      " [1 0 4]]\n",
      "                    precision    recall  f1-score   support\n",
      "\n",
      "   Crohn's disease       0.67      1.00      0.80         4\n",
      "   Healthy control       1.00      0.50      0.67         2\n",
      "ulcerative colitis       1.00      0.80      0.89         5\n",
      "\n",
      "          accuracy                           0.82        11\n",
      "         macro avg       0.89      0.77      0.79        11\n",
      "      weighted avg       0.88      0.82      0.82        11\n",
      "\n"
     ]
    }
   ],
   "source": [
    "model1 = SVC(class_weight='balanced', kernel='rbf')\n",
    "model1.fit(x_train, y_train)\n",
    "predictions1 = model1.predict(x_validate)\n",
    "print(accuracy_score(y_validate, predictions1))\n",
    "print(confusion_matrix(y_validate, predictions1))\n",
    "print(classification_report(y_validate, predictions1))"
   ]
  },
  {
   "cell_type": "code",
   "execution_count": 123,
   "metadata": {},
   "outputs": [
    {
     "name": "stdout",
     "output_type": "stream",
     "text": [
      "Logistic Regression\n",
      "####################################################################################################\n",
      "0.7272727272727273\n",
      "[[2 2 0]\n",
      " [0 2 0]\n",
      " [1 0 4]]\n",
      "                    precision    recall  f1-score   support\n",
      "\n",
      "   Crohn's disease       0.67      0.50      0.57         4\n",
      "   Healthy control       0.50      1.00      0.67         2\n",
      "ulcerative colitis       1.00      0.80      0.89         5\n",
      "\n",
      "          accuracy                           0.73        11\n",
      "         macro avg       0.72      0.77      0.71        11\n",
      "      weighted avg       0.79      0.73      0.73        11\n",
      "\n"
     ]
    }
   ],
   "source": [
    "print(\"Logistic Regression\")\n",
    "print(\"#\"*100)\n",
    "\n",
    "\n",
    "\n",
    "model2 = LogisticRegression(max_iter=1000, class_weight='balanced')\n",
    "# model2 = DecisionTreeClassifier(class_weight)\n",
    "model2.fit(x_train, y_train)\n",
    "predictions2 = model2.predict(x_validate)\n",
    "print(accuracy_score(y_validate, predictions2))\n",
    "print(confusion_matrix(y_validate, predictions2))\n",
    "print(classification_report(y_validate, predictions2))"
   ]
  },
  {
   "cell_type": "code",
   "execution_count": null,
   "metadata": {},
   "outputs": [],
   "source": []
  }
 ],
 "metadata": {
  "kernelspec": {
   "display_name": "Python 3",
   "language": "python",
   "name": "python3"
  },
  "language_info": {
   "codemirror_mode": {
    "name": "ipython",
    "version": 3
   },
   "file_extension": ".py",
   "mimetype": "text/x-python",
   "name": "python",
   "nbconvert_exporter": "python",
   "pygments_lexer": "ipython3",
   "version": "3.8.5"
  }
 },
 "nbformat": 4,
 "nbformat_minor": 4
}
